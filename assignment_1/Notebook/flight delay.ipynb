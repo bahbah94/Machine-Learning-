{
 "cells": [
  {
   "cell_type": "code",
   "execution_count": 1,
   "id": "38b441fb",
   "metadata": {},
   "outputs": [],
   "source": [
    "import pandas as pd\n",
    "from scipy import stats\n",
    "#from sklearn import preprocessing\n",
    "\n",
    "import numpy as np\n",
    "import matplotlib.pyplot as plt\n",
    "%matplotlib inline\n"
   ]
  },
  {
   "cell_type": "code",
   "execution_count": 2,
   "id": "53b76317",
   "metadata": {},
   "outputs": [],
   "source": [
    "flight_df = pd.read_csv(\"/Users/randalllionelkharkrang/Desktop/Innopolis/Semester1/Machine_learning/Assignment_1/flight_delay.csv\",parse_dates=['Scheduled depature time','Scheduled arrival time'])"
   ]
  },
  {
   "cell_type": "code",
   "execution_count": 3,
   "id": "637c9998",
   "metadata": {},
   "outputs": [
    {
     "data": {
      "text/html": [
       "<div>\n",
       "<style scoped>\n",
       "    .dataframe tbody tr th:only-of-type {\n",
       "        vertical-align: middle;\n",
       "    }\n",
       "\n",
       "    .dataframe tbody tr th {\n",
       "        vertical-align: top;\n",
       "    }\n",
       "\n",
       "    .dataframe thead th {\n",
       "        text-align: right;\n",
       "    }\n",
       "</style>\n",
       "<table border=\"1\" class=\"dataframe\">\n",
       "  <thead>\n",
       "    <tr style=\"text-align: right;\">\n",
       "      <th></th>\n",
       "      <th>Depature Airport</th>\n",
       "      <th>Scheduled depature time</th>\n",
       "      <th>Destination Airport</th>\n",
       "      <th>Scheduled arrival time</th>\n",
       "      <th>Delay</th>\n",
       "    </tr>\n",
       "  </thead>\n",
       "  <tbody>\n",
       "    <tr>\n",
       "      <th>0</th>\n",
       "      <td>SVO</td>\n",
       "      <td>2015-10-27 07:40:00</td>\n",
       "      <td>HAV</td>\n",
       "      <td>2015-10-27 20:45:00</td>\n",
       "      <td>0.0</td>\n",
       "    </tr>\n",
       "    <tr>\n",
       "      <th>1</th>\n",
       "      <td>SVO</td>\n",
       "      <td>2015-10-27 09:50:00</td>\n",
       "      <td>JFK</td>\n",
       "      <td>2015-10-27 20:35:00</td>\n",
       "      <td>2.0</td>\n",
       "    </tr>\n",
       "    <tr>\n",
       "      <th>2</th>\n",
       "      <td>SVO</td>\n",
       "      <td>2015-10-27 10:45:00</td>\n",
       "      <td>MIA</td>\n",
       "      <td>2015-10-27 23:35:00</td>\n",
       "      <td>0.0</td>\n",
       "    </tr>\n",
       "    <tr>\n",
       "      <th>3</th>\n",
       "      <td>SVO</td>\n",
       "      <td>2015-10-27 12:30:00</td>\n",
       "      <td>LAX</td>\n",
       "      <td>2015-10-28 01:20:00</td>\n",
       "      <td>0.0</td>\n",
       "    </tr>\n",
       "    <tr>\n",
       "      <th>4</th>\n",
       "      <td>OTP</td>\n",
       "      <td>2015-10-27 14:15:00</td>\n",
       "      <td>SVO</td>\n",
       "      <td>2015-10-27 16:40:00</td>\n",
       "      <td>9.0</td>\n",
       "    </tr>\n",
       "  </tbody>\n",
       "</table>\n",
       "</div>"
      ],
      "text/plain": [
       "  Depature Airport Scheduled depature time Destination Airport  \\\n",
       "0              SVO     2015-10-27 07:40:00                 HAV   \n",
       "1              SVO     2015-10-27 09:50:00                 JFK   \n",
       "2              SVO     2015-10-27 10:45:00                 MIA   \n",
       "3              SVO     2015-10-27 12:30:00                 LAX   \n",
       "4              OTP     2015-10-27 14:15:00                 SVO   \n",
       "\n",
       "  Scheduled arrival time  Delay  \n",
       "0    2015-10-27 20:45:00    0.0  \n",
       "1    2015-10-27 20:35:00    2.0  \n",
       "2    2015-10-27 23:35:00    0.0  \n",
       "3    2015-10-28 01:20:00    0.0  \n",
       "4    2015-10-27 16:40:00    9.0  "
      ]
     },
     "execution_count": 3,
     "metadata": {},
     "output_type": "execute_result"
    }
   ],
   "source": [
    "flight_df.head()"
   ]
  },
  {
   "cell_type": "code",
   "execution_count": 4,
   "id": "09e76658",
   "metadata": {},
   "outputs": [
    {
     "data": {
      "text/plain": [
       "(675513, 5)"
      ]
     },
     "execution_count": 4,
     "metadata": {},
     "output_type": "execute_result"
    }
   ],
   "source": [
    "flight_df.shape"
   ]
  },
  {
   "cell_type": "code",
   "execution_count": 5,
   "id": "23bda0c5",
   "metadata": {},
   "outputs": [
    {
     "data": {
      "text/html": [
       "<div>\n",
       "<style scoped>\n",
       "    .dataframe tbody tr th:only-of-type {\n",
       "        vertical-align: middle;\n",
       "    }\n",
       "\n",
       "    .dataframe tbody tr th {\n",
       "        vertical-align: top;\n",
       "    }\n",
       "\n",
       "    .dataframe thead th {\n",
       "        text-align: right;\n",
       "    }\n",
       "</style>\n",
       "<table border=\"1\" class=\"dataframe\">\n",
       "  <thead>\n",
       "    <tr style=\"text-align: right;\">\n",
       "      <th></th>\n",
       "      <th>Delay</th>\n",
       "    </tr>\n",
       "  </thead>\n",
       "  <tbody>\n",
       "    <tr>\n",
       "      <th>count</th>\n",
       "      <td>675513.000000</td>\n",
       "    </tr>\n",
       "    <tr>\n",
       "      <th>mean</th>\n",
       "      <td>9.912939</td>\n",
       "    </tr>\n",
       "    <tr>\n",
       "      <th>std</th>\n",
       "      <td>44.895875</td>\n",
       "    </tr>\n",
       "    <tr>\n",
       "      <th>min</th>\n",
       "      <td>0.000000</td>\n",
       "    </tr>\n",
       "    <tr>\n",
       "      <th>25%</th>\n",
       "      <td>0.000000</td>\n",
       "    </tr>\n",
       "    <tr>\n",
       "      <th>50%</th>\n",
       "      <td>0.000000</td>\n",
       "    </tr>\n",
       "    <tr>\n",
       "      <th>75%</th>\n",
       "      <td>5.000000</td>\n",
       "    </tr>\n",
       "    <tr>\n",
       "      <th>max</th>\n",
       "      <td>1436.000000</td>\n",
       "    </tr>\n",
       "  </tbody>\n",
       "</table>\n",
       "</div>"
      ],
      "text/plain": [
       "               Delay\n",
       "count  675513.000000\n",
       "mean        9.912939\n",
       "std        44.895875\n",
       "min         0.000000\n",
       "25%         0.000000\n",
       "50%         0.000000\n",
       "75%         5.000000\n",
       "max      1436.000000"
      ]
     },
     "execution_count": 5,
     "metadata": {},
     "output_type": "execute_result"
    }
   ],
   "source": [
    "flight_df.describe()"
   ]
  },
  {
   "cell_type": "code",
   "execution_count": 6,
   "id": "8c563688",
   "metadata": {},
   "outputs": [
    {
     "data": {
      "text/plain": [
       "(675513, 5)"
      ]
     },
     "execution_count": 6,
     "metadata": {},
     "output_type": "execute_result"
    }
   ],
   "source": [
    "#flight_df.columns = [c.lower().replace(' ', '_') for c in flight_df.columns]\n",
    "flight_df.shape"
   ]
  },
  {
   "cell_type": "code",
   "execution_count": 7,
   "id": "dafaa163",
   "metadata": {},
   "outputs": [],
   "source": [
    "flight_df['Flight duration(minutes)'] = (abs(flight_df['Scheduled depature time'] - flight_df['Scheduled arrival time'])).dt.seconds/60\n",
    "flight_df['Scheduled depature month'] = flight_df['Scheduled depature time'].dt.month\n",
    "flight_df['Scheduled depature dow'] = flight_df['Scheduled depature time'].dt.day_name()\n",
    "flight_df['Scheduled depature hour'] = flight_df['Scheduled depature time'].dt.hour\n",
    "flight_df['Scheduled depature year'] = flight_df['Scheduled depature time'].dt.year"
   ]
  },
  {
   "cell_type": "code",
   "execution_count": 8,
   "id": "4b033414",
   "metadata": {},
   "outputs": [
    {
     "data": {
      "text/html": [
       "<div>\n",
       "<style scoped>\n",
       "    .dataframe tbody tr th:only-of-type {\n",
       "        vertical-align: middle;\n",
       "    }\n",
       "\n",
       "    .dataframe tbody tr th {\n",
       "        vertical-align: top;\n",
       "    }\n",
       "\n",
       "    .dataframe thead th {\n",
       "        text-align: right;\n",
       "    }\n",
       "</style>\n",
       "<table border=\"1\" class=\"dataframe\">\n",
       "  <thead>\n",
       "    <tr style=\"text-align: right;\">\n",
       "      <th></th>\n",
       "      <th>Depature Airport</th>\n",
       "      <th>Scheduled depature time</th>\n",
       "      <th>Destination Airport</th>\n",
       "      <th>Scheduled arrival time</th>\n",
       "      <th>Delay</th>\n",
       "      <th>Flight duration(minutes)</th>\n",
       "      <th>Scheduled depature month</th>\n",
       "      <th>Scheduled depature dow</th>\n",
       "      <th>Scheduled depature hour</th>\n",
       "      <th>Scheduled depature year</th>\n",
       "    </tr>\n",
       "  </thead>\n",
       "  <tbody>\n",
       "    <tr>\n",
       "      <th>0</th>\n",
       "      <td>SVO</td>\n",
       "      <td>2015-10-27 07:40:00</td>\n",
       "      <td>HAV</td>\n",
       "      <td>2015-10-27 20:45:00</td>\n",
       "      <td>0.0</td>\n",
       "      <td>785.0</td>\n",
       "      <td>10</td>\n",
       "      <td>Tuesday</td>\n",
       "      <td>7</td>\n",
       "      <td>2015</td>\n",
       "    </tr>\n",
       "    <tr>\n",
       "      <th>1</th>\n",
       "      <td>SVO</td>\n",
       "      <td>2015-10-27 09:50:00</td>\n",
       "      <td>JFK</td>\n",
       "      <td>2015-10-27 20:35:00</td>\n",
       "      <td>2.0</td>\n",
       "      <td>645.0</td>\n",
       "      <td>10</td>\n",
       "      <td>Tuesday</td>\n",
       "      <td>9</td>\n",
       "      <td>2015</td>\n",
       "    </tr>\n",
       "    <tr>\n",
       "      <th>2</th>\n",
       "      <td>SVO</td>\n",
       "      <td>2015-10-27 10:45:00</td>\n",
       "      <td>MIA</td>\n",
       "      <td>2015-10-27 23:35:00</td>\n",
       "      <td>0.0</td>\n",
       "      <td>770.0</td>\n",
       "      <td>10</td>\n",
       "      <td>Tuesday</td>\n",
       "      <td>10</td>\n",
       "      <td>2015</td>\n",
       "    </tr>\n",
       "    <tr>\n",
       "      <th>3</th>\n",
       "      <td>SVO</td>\n",
       "      <td>2015-10-27 12:30:00</td>\n",
       "      <td>LAX</td>\n",
       "      <td>2015-10-28 01:20:00</td>\n",
       "      <td>0.0</td>\n",
       "      <td>770.0</td>\n",
       "      <td>10</td>\n",
       "      <td>Tuesday</td>\n",
       "      <td>12</td>\n",
       "      <td>2015</td>\n",
       "    </tr>\n",
       "    <tr>\n",
       "      <th>4</th>\n",
       "      <td>OTP</td>\n",
       "      <td>2015-10-27 14:15:00</td>\n",
       "      <td>SVO</td>\n",
       "      <td>2015-10-27 16:40:00</td>\n",
       "      <td>9.0</td>\n",
       "      <td>145.0</td>\n",
       "      <td>10</td>\n",
       "      <td>Tuesday</td>\n",
       "      <td>14</td>\n",
       "      <td>2015</td>\n",
       "    </tr>\n",
       "  </tbody>\n",
       "</table>\n",
       "</div>"
      ],
      "text/plain": [
       "  Depature Airport Scheduled depature time Destination Airport  \\\n",
       "0              SVO     2015-10-27 07:40:00                 HAV   \n",
       "1              SVO     2015-10-27 09:50:00                 JFK   \n",
       "2              SVO     2015-10-27 10:45:00                 MIA   \n",
       "3              SVO     2015-10-27 12:30:00                 LAX   \n",
       "4              OTP     2015-10-27 14:15:00                 SVO   \n",
       "\n",
       "  Scheduled arrival time  Delay  Flight duration(minutes)  \\\n",
       "0    2015-10-27 20:45:00    0.0                     785.0   \n",
       "1    2015-10-27 20:35:00    2.0                     645.0   \n",
       "2    2015-10-27 23:35:00    0.0                     770.0   \n",
       "3    2015-10-28 01:20:00    0.0                     770.0   \n",
       "4    2015-10-27 16:40:00    9.0                     145.0   \n",
       "\n",
       "   Scheduled depature month Scheduled depature dow  Scheduled depature hour  \\\n",
       "0                        10                Tuesday                        7   \n",
       "1                        10                Tuesday                        9   \n",
       "2                        10                Tuesday                       10   \n",
       "3                        10                Tuesday                       12   \n",
       "4                        10                Tuesday                       14   \n",
       "\n",
       "   Scheduled depature year  \n",
       "0                     2015  \n",
       "1                     2015  \n",
       "2                     2015  \n",
       "3                     2015  \n",
       "4                     2015  "
      ]
     },
     "execution_count": 8,
     "metadata": {},
     "output_type": "execute_result"
    }
   ],
   "source": [
    "flight_df.head()"
   ]
  },
  {
   "cell_type": "code",
   "execution_count": 257,
   "id": "27f9d3da",
   "metadata": {},
   "outputs": [
    {
     "data": {
      "image/png": "[encoded data removed]",
      "text/plain": [
       "<Figure size 1080x720 with 6 Axes>"
      ]
     },
     "metadata": {
      "needs_background": "light"
     },
     "output_type": "display_data"
    }
   ],
   "source": [
    "#flight_df.plot(x='Flight duration(minutes)', y='Delay', style='o')\n",
    "#plt.title('Duration vs Delay')\n",
    "#plt.xlabel('Duration')\n",
    "#plt.ylabel('Delay')\n",
    "#plt.show()\n",
    "fig, axs = plt.subplots(2,3 ,figsize=(15,10))\n",
    "axs[0, 0].scatter(flight_df['Flight duration(minutes)'], flight_df['Delay'])\n",
    "axs[0, 0].set_title('Duration vs Delay')\n",
    "axs[0, 0].set(xlabel ='Flight duration in minutes',ylabel='Delay')\n",
    "axs[0, 1].scatter(flight_df['Scheduled depature month'], flight_df['Delay'], color='orange')\n",
    "axs[0, 1].set_title('Scheduled departure month vs Delay')\n",
    "axs[0, 1].set(xlabel ='Scheduled departure Month',ylabel='Delay')\n",
    "axs[0, 2].scatter(flight_df['Scheduled depature dow'], flight_df['Delay'], color='green')\n",
    "axs[0, 2].set_title('Scheduled departure day of week vs Delay')\n",
    "axs[0, 2].set(xlabel ='Scheduled day of the week',ylabel='delay')\n",
    "axs[1, 0].scatter(flight_df['Scheduled depature hour'], flight_df['Delay'], color='red')\n",
    "axs[1, 0].set_title('Scheduled departure hour vs Delay')\n",
    "axs[1, 0].set(xlabel ='Scheduled departure hour',ylabel='Delay')\n",
    "axs[1, 1].scatter(flight_df['Scheduled depature year'], flight_df['Delay'], color='brown')\n",
    "axs[1, 1].set_title('Scheduled departure year vs Delay')\n",
    "axs[1, 1].set(xlabel ='Scheduled departure year',ylabel='Delay')\n",
    "axs[1, 2].scatter(flight_df['Destination Airport'], flight_df['Delay'], color='yellow')\n",
    "axs[1, 2].set_title('DEstination airport vs Delay')\n",
    "axs[1, 2].set(xlabel ='destination airport',ylabel='Delay')\n",
    "fig.tight_layout()"
   ]
  },
  {
   "cell_type": "code",
   "execution_count": 9,
   "id": "04618d4c",
   "metadata": {},
   "outputs": [
    {
     "data": {
      "image/png": "[encoded data removed]",
      "text/plain": [
       "<Figure size 432x288 with 1 Axes>"
      ]
     },
     "metadata": {
      "needs_background": "light"
     },
     "output_type": "display_data"
    }
   ],
   "source": [
    "flight_df.plot(x='Flight duration(minutes)', y='Delay', style='o')\n",
    "plt.title('Duration vs Delay')\n",
    "plt.xlabel('Duration')\n",
    "plt.ylabel('Delay')\n",
    "plt.show()"
   ]
  },
  {
   "cell_type": "markdown",
   "id": "e02887a5",
   "metadata": {},
   "source": [
    "Splitting the training and test data"
   ]
  },
  {
   "cell_type": "code",
   "execution_count": 259,
   "id": "84f2504c",
   "metadata": {},
   "outputs": [],
   "source": [
    "X_train = flight_df.loc[(flight_df['Scheduled depature year'] >= 2015) & (flight_df['Scheduled depature year'] <=2017)]\n",
    "X_test = flight_df.loc[flight_df['Scheduled depature year'] == 2018]\n",
    "y_train = X_train['Delay']\n",
    "y_test = X_test['Delay']\n",
    "X_train = X_train['Flight duration(minutes)']\n",
    "X_test = X_test['Flight duration(minutes)']"
   ]
  },
  {
   "cell_type": "code",
   "execution_count": 260,
   "id": "7fdb7e2f",
   "metadata": {},
   "outputs": [
    {
     "name": "stdout",
     "output_type": "stream",
     "text": [
      "0\n",
      "0\n"
     ]
    }
   ],
   "source": [
    "print(X_train.isnull().sum())\n",
    "print(X_test.isnull().sum())"
   ]
  },
  {
   "cell_type": "code",
   "execution_count": 261,
   "id": "edefa34e",
   "metadata": {},
   "outputs": [
    {
     "name": "stdout",
     "output_type": "stream",
     "text": [
      "(499062,)\n",
      "(176451,)\n"
     ]
    }
   ],
   "source": [
    "print(X_train.shape)\n",
    "print(X_test.shape)"
   ]
  },
  {
   "cell_type": "markdown",
   "id": "89734c9a",
   "metadata": {},
   "source": [
    "Outlier detection"
   ]
  },
  {
   "cell_type": "code",
   "execution_count": 262,
   "id": "34a6853e",
   "metadata": {},
   "outputs": [
    {
     "name": "stdout",
     "output_type": "stream",
     "text": [
      "Identified outliers: 14359\n",
      "Non-outlier observations: 484703\n"
     ]
    }
   ],
   "source": [
    "df = pd.concat([X_train,y_train],axis=1)\n",
    "df_mean, std_dev = np.mean(df['Flight duration(minutes)']), np.std(df['Flight duration(minutes)'])\n",
    "cutoff = std_dev*3\n",
    "lower,upper = df_mean - cutoff, df_mean + cutoff\n",
    "# identify outliers\n",
    "outliers = [x for x in df['Flight duration(minutes)'] if x < lower or x > upper]\n",
    "print('Identified outliers: %d' % len(outliers))\n",
    "# remove outliers\n",
    "df.drop(df[df['Flight duration(minutes)'] < lower].index, inplace = True)\n",
    "df.drop(df[df['Flight duration(minutes)'] > upper].index, inplace = True)\n",
    "print('Non-outlier observations: %d' % len(df))"
   ]
  },
  {
   "cell_type": "code",
   "execution_count": 263,
   "id": "de66fa18",
   "metadata": {},
   "outputs": [
    {
     "name": "stdout",
     "output_type": "stream",
     "text": [
      "(484703,)\n",
      "(484703,)\n"
     ]
    }
   ],
   "source": [
    "#seperate the data set again\n",
    "X_train = df['Flight duration(minutes)']\n",
    "y_train = df['Delay']\n",
    "print(X_train.shape)\n",
    "print(y_train.shape)"
   ]
  },
  {
   "cell_type": "markdown",
   "id": "22c11620",
   "metadata": {},
   "source": [
    "Simple linear regresssion"
   ]
  },
  {
   "cell_type": "code",
   "execution_count": 264,
   "id": "ac14ad98",
   "metadata": {},
   "outputs": [],
   "source": [
    "X_train = (X_train.to_numpy()).reshape(-1,1)\n",
    "X_test = (X_test.to_numpy()).reshape(-1,1)"
   ]
  },
  {
   "cell_type": "code",
   "execution_count": 35,
   "id": "1c0a6e75",
   "metadata": {},
   "outputs": [],
   "source": [
    "from sklearn.model_selection import train_test_split\n",
    "from sklearn.linear_model import LinearRegression\n",
    "from sklearn import metrics\n"
   ]
  },
  {
   "cell_type": "code",
   "execution_count": 268,
   "id": "f6f6e6e8",
   "metadata": {},
   "outputs": [
    {
     "name": "stdout",
     "output_type": "stream",
     "text": [
      "model intercept: 7.853417866020342\n",
      "model slope: [0.01670644]\n"
     ]
    }
   ],
   "source": [
    "linreg = LinearRegression()\n",
    "linreg.fit(X_train,y_train)\n",
    "print(f\"model intercept: {linreg.intercept_}\")\n",
    "print(f\"model slope: {linreg.coef_}\")"
   ]
  },
  {
   "cell_type": "code",
   "execution_count": 269,
   "id": "862220be",
   "metadata": {},
   "outputs": [
    {
     "name": "stdout",
     "output_type": "stream",
     "text": [
      "Mean Absolute Error training : 15.25866212144142\n",
      "Mean Squared Error training : 2143.64488975645\n",
      "Root Mean Squared Error training : 46.29951284577895\n",
      "R2 score training : 0.0012500638690523536\n"
     ]
    }
   ],
   "source": [
    "y_train_pred  = linreg.predict(X_train)\n",
    "print('Mean Absolute Error training :', metrics.mean_absolute_error(y_train_pred, y_train))\n",
    "print('Mean Squared Error training :', metrics.mean_squared_error(y_train, y_train_pred))\n",
    "print('Root Mean Squared Error training :', np.sqrt(metrics.mean_squared_error(y_train, y_train_pred)))\n",
    "print('R2 score training :', metrics.r2_score(y_train,y_train_pred))"
   ]
  },
  {
   "cell_type": "code",
   "execution_count": 270,
   "id": "54495ce3",
   "metadata": {},
   "outputs": [],
   "source": [
    "y_pred = linreg.predict(X_test)\n",
    "eval_df = pd.DataFrame({'Actual': y_test, 'Predicted': y_pred})"
   ]
  },
  {
   "cell_type": "code",
   "execution_count": 271,
   "id": "33e2d53f",
   "metadata": {},
   "outputs": [
    {
     "name": "stdout",
     "output_type": "stream",
     "text": [
      "Mean Absolute Error for test : 14.410128100731614\n",
      "Mean Squared Error for test : 1619.3014771835187\n",
      "Root Mean Squared Error for test : 40.24054518993895\n",
      "R2 score  for test : -0.010313284654723587\n"
     ]
    }
   ],
   "source": [
    "print('Mean Absolute Error for test :', metrics.mean_absolute_error(y_test, y_pred))\n",
    "print('Mean Squared Error for test :', metrics.mean_squared_error(y_test, y_pred))\n",
    "print('Root Mean Squared Error for test :', np.sqrt(metrics.mean_squared_error(y_test, y_pred)))\n",
    "print('R2 score  for test :', metrics.r2_score(y_test,y_pred))"
   ]
  },
  {
   "cell_type": "markdown",
   "id": "e148bdbd",
   "metadata": {},
   "source": [
    "Multiple Regression:"
   ]
  },
  {
   "cell_type": "markdown",
   "id": "7e11e460",
   "metadata": {},
   "source": [
    "splitting the data based on multiple columns"
   ]
  },
  {
   "cell_type": "code",
   "execution_count": 9,
   "id": "78476f39",
   "metadata": {},
   "outputs": [],
   "source": [
    "X_test = flight_df.loc[flight_df['Scheduled depature year'] == 2018]\n",
    "X_train = flight_df.loc[(flight_df['Scheduled depature year'] >= 2015) & (flight_df['Scheduled depature year'] <=2017)]\n",
    "y_train = X_train['Delay']\n",
    "y_test = X_test['Delay']\n",
    "#X_test = X_test.drop(['Delay'],axis=1)\n",
    "#X_test\n",
    "#y_test"
   ]
  },
  {
   "cell_type": "code",
   "execution_count": 10,
   "id": "0dba6faa",
   "metadata": {},
   "outputs": [],
   "source": [
    "X_train = X_train.drop(['Scheduled depature time','Scheduled arrival time'],axis=1)\n",
    "X_test = X_test.drop(['Scheduled depature time','Scheduled arrival time'],axis=1)\n"
   ]
  },
  {
   "cell_type": "code",
   "execution_count": 11,
   "id": "ad5fd9c3",
   "metadata": {},
   "outputs": [
    {
     "data": {
      "text/html": [
       "<div>\n",
       "<style scoped>\n",
       "    .dataframe tbody tr th:only-of-type {\n",
       "        vertical-align: middle;\n",
       "    }\n",
       "\n",
       "    .dataframe tbody tr th {\n",
       "        vertical-align: top;\n",
       "    }\n",
       "\n",
       "    .dataframe thead th {\n",
       "        text-align: right;\n",
       "    }\n",
       "</style>\n",
       "<table border=\"1\" class=\"dataframe\">\n",
       "  <thead>\n",
       "    <tr style=\"text-align: right;\">\n",
       "      <th></th>\n",
       "      <th>Depature Airport</th>\n",
       "      <th>Destination Airport</th>\n",
       "      <th>Delay</th>\n",
       "      <th>Flight duration(minutes)</th>\n",
       "      <th>Scheduled depature month</th>\n",
       "      <th>Scheduled depature dow</th>\n",
       "      <th>Scheduled depature hour</th>\n",
       "      <th>Scheduled depature year</th>\n",
       "    </tr>\n",
       "  </thead>\n",
       "  <tbody>\n",
       "    <tr>\n",
       "      <th>0</th>\n",
       "      <td>SVO</td>\n",
       "      <td>HAV</td>\n",
       "      <td>0.0</td>\n",
       "      <td>785.0</td>\n",
       "      <td>10</td>\n",
       "      <td>Tuesday</td>\n",
       "      <td>7</td>\n",
       "      <td>2015</td>\n",
       "    </tr>\n",
       "    <tr>\n",
       "      <th>1</th>\n",
       "      <td>SVO</td>\n",
       "      <td>JFK</td>\n",
       "      <td>2.0</td>\n",
       "      <td>645.0</td>\n",
       "      <td>10</td>\n",
       "      <td>Tuesday</td>\n",
       "      <td>9</td>\n",
       "      <td>2015</td>\n",
       "    </tr>\n",
       "    <tr>\n",
       "      <th>2</th>\n",
       "      <td>SVO</td>\n",
       "      <td>MIA</td>\n",
       "      <td>0.0</td>\n",
       "      <td>770.0</td>\n",
       "      <td>10</td>\n",
       "      <td>Tuesday</td>\n",
       "      <td>10</td>\n",
       "      <td>2015</td>\n",
       "    </tr>\n",
       "    <tr>\n",
       "      <th>3</th>\n",
       "      <td>SVO</td>\n",
       "      <td>LAX</td>\n",
       "      <td>0.0</td>\n",
       "      <td>770.0</td>\n",
       "      <td>10</td>\n",
       "      <td>Tuesday</td>\n",
       "      <td>12</td>\n",
       "      <td>2015</td>\n",
       "    </tr>\n",
       "    <tr>\n",
       "      <th>4</th>\n",
       "      <td>OTP</td>\n",
       "      <td>SVO</td>\n",
       "      <td>9.0</td>\n",
       "      <td>145.0</td>\n",
       "      <td>10</td>\n",
       "      <td>Tuesday</td>\n",
       "      <td>14</td>\n",
       "      <td>2015</td>\n",
       "    </tr>\n",
       "  </tbody>\n",
       "</table>\n",
       "</div>"
      ],
      "text/plain": [
       "  Depature Airport Destination Airport  Delay  Flight duration(minutes)  \\\n",
       "0              SVO                 HAV    0.0                     785.0   \n",
       "1              SVO                 JFK    2.0                     645.0   \n",
       "2              SVO                 MIA    0.0                     770.0   \n",
       "3              SVO                 LAX    0.0                     770.0   \n",
       "4              OTP                 SVO    9.0                     145.0   \n",
       "\n",
       "   Scheduled depature month Scheduled depature dow  Scheduled depature hour  \\\n",
       "0                        10                Tuesday                        7   \n",
       "1                        10                Tuesday                        9   \n",
       "2                        10                Tuesday                       10   \n",
       "3                        10                Tuesday                       12   \n",
       "4                        10                Tuesday                       14   \n",
       "\n",
       "   Scheduled depature year  \n",
       "0                     2015  \n",
       "1                     2015  \n",
       "2                     2015  \n",
       "3                     2015  \n",
       "4                     2015  "
      ]
     },
     "execution_count": 11,
     "metadata": {},
     "output_type": "execute_result"
    }
   ],
   "source": [
    "X_train.head()"
   ]
  },
  {
   "cell_type": "code",
   "execution_count": 12,
   "id": "9ae55383",
   "metadata": {},
   "outputs": [],
   "source": [
    "from sklearn.model_selection import train_test_split\n",
    "x_train, x_val, y_train, y_val = train_test_split(X_train, y_train, test_size=1/8, random_state=123)"
   ]
  },
  {
   "cell_type": "code",
   "execution_count": 13,
   "id": "ac735bea",
   "metadata": {},
   "outputs": [
    {
     "name": "stdout",
     "output_type": "stream",
     "text": [
      "(436679, 8)\n",
      "(436679,)\n",
      "(62383, 8)\n",
      "(62383,)\n"
     ]
    }
   ],
   "source": [
    "print(x_train.shape)\n",
    "print(y_train.shape)\n",
    "print(x_val.shape)\n",
    "print(y_val.shape)"
   ]
  },
  {
   "cell_type": "code",
   "execution_count": 14,
   "id": "8660e5e9",
   "metadata": {},
   "outputs": [
    {
     "name": "stdout",
     "output_type": "stream",
     "text": [
      "Number of missing values in train before encoding:  0\n",
      "Number of missing values in test before encoding:  0\n",
      "Number of missing values in train before encoding:  0\n"
     ]
    }
   ],
   "source": [
    "print(\"Number of missing values in train before encoding: \",x_train.isnull().sum().sum())\n",
    "print(\"Number of missing values in test before encoding: \",X_test.isnull().sum().sum())\n",
    "print(\"Number of missing values in train before encoding: \",x_val.isnull().sum().sum())"
   ]
  },
  {
   "cell_type": "code",
   "execution_count": 15,
   "id": "17a1d1c0",
   "metadata": {},
   "outputs": [],
   "source": [
    "from sklearn.preprocessing import LabelEncoder"
   ]
  },
  {
   "cell_type": "code",
   "execution_count": 16,
   "id": "19541f98",
   "metadata": {},
   "outputs": [
    {
     "data": {
      "text/plain": [
       "LabelEncoder()"
      ]
     },
     "execution_count": 16,
     "metadata": {},
     "output_type": "execute_result"
    }
   ],
   "source": [
    "encoder = LabelEncoder()\n",
    "feats = ['Depature Airport','Destination Airport','Scheduled depature dow']\n",
    "encoder.fit(x_train[feats].stack().unique())\n",
    "#print(encoder.categories_)"
   ]
  },
  {
   "cell_type": "code",
   "execution_count": 17,
   "id": "ef7129d3",
   "metadata": {},
   "outputs": [
    {
     "name": "stderr",
     "output_type": "stream",
     "text": [
      "<ipython-input-17-202d2c1618db>:1: SettingWithCopyWarning: \n",
      "A value is trying to be set on a copy of a slice from a DataFrame.\n",
      "Try using .loc[row_indexer,col_indexer] = value instead\n",
      "\n",
      "See the caveats in the documentation: https://pandas.pydata.org/pandas-docs/stable/user_guide/indexing.html#returning-a-view-versus-a-copy\n",
      "  x_train['Depature Airport']=encoder.transform(x_train['Depature Airport'])\n",
      "<ipython-input-17-202d2c1618db>:2: SettingWithCopyWarning: \n",
      "A value is trying to be set on a copy of a slice from a DataFrame.\n",
      "Try using .loc[row_indexer,col_indexer] = value instead\n",
      "\n",
      "See the caveats in the documentation: https://pandas.pydata.org/pandas-docs/stable/user_guide/indexing.html#returning-a-view-versus-a-copy\n",
      "  x_train['Destination Airport']= encoder.transform(x_train['Destination Airport'])\n",
      "<ipython-input-17-202d2c1618db>:3: SettingWithCopyWarning: \n",
      "A value is trying to be set on a copy of a slice from a DataFrame.\n",
      "Try using .loc[row_indexer,col_indexer] = value instead\n",
      "\n",
      "See the caveats in the documentation: https://pandas.pydata.org/pandas-docs/stable/user_guide/indexing.html#returning-a-view-versus-a-copy\n",
      "  x_train['Scheduled depature dow']= encoder.transform(x_train['Scheduled depature dow'])\n"
     ]
    }
   ],
   "source": [
    "x_train['Depature Airport']=encoder.transform(x_train['Depature Airport'])\n",
    "x_train['Destination Airport']= encoder.transform(x_train['Destination Airport'])\n",
    "x_train['Scheduled depature dow']= encoder.transform(x_train['Scheduled depature dow'])"
   ]
  },
  {
   "cell_type": "code",
   "execution_count": 18,
   "id": "9478c80d",
   "metadata": {},
   "outputs": [
    {
     "data": {
      "text/plain": [
       "(436679, 8)"
      ]
     },
     "execution_count": 18,
     "metadata": {},
     "output_type": "execute_result"
    }
   ],
   "source": [
    "x_train.shape"
   ]
  },
  {
   "cell_type": "code",
   "execution_count": 19,
   "id": "8fabe85f",
   "metadata": {},
   "outputs": [],
   "source": [
    "encoder_dict = dict(zip(encoder.classes_, encoder.transform(encoder.classes_)))"
   ]
  },
  {
   "cell_type": "code",
   "execution_count": 20,
   "id": "56540e7a",
   "metadata": {},
   "outputs": [
    {
     "name": "stderr",
     "output_type": "stream",
     "text": [
      "<ipython-input-20-45c77df3b635>:1: SettingWithCopyWarning: \n",
      "A value is trying to be set on a copy of a slice from a DataFrame.\n",
      "Try using .loc[row_indexer,col_indexer] = value instead\n",
      "\n",
      "See the caveats in the documentation: https://pandas.pydata.org/pandas-docs/stable/user_guide/indexing.html#returning-a-view-versus-a-copy\n",
      "  x_val['Depature Airport']=x_val['Depature Airport'].apply(lambda x: encoder_dict.get(x,-1))\n",
      "<ipython-input-20-45c77df3b635>:2: SettingWithCopyWarning: \n",
      "A value is trying to be set on a copy of a slice from a DataFrame.\n",
      "Try using .loc[row_indexer,col_indexer] = value instead\n",
      "\n",
      "See the caveats in the documentation: https://pandas.pydata.org/pandas-docs/stable/user_guide/indexing.html#returning-a-view-versus-a-copy\n",
      "  x_val['Destination Airport']= x_val['Destination Airport'].apply(lambda x: encoder_dict.get(x,-1))\n",
      "<ipython-input-20-45c77df3b635>:3: SettingWithCopyWarning: \n",
      "A value is trying to be set on a copy of a slice from a DataFrame.\n",
      "Try using .loc[row_indexer,col_indexer] = value instead\n",
      "\n",
      "See the caveats in the documentation: https://pandas.pydata.org/pandas-docs/stable/user_guide/indexing.html#returning-a-view-versus-a-copy\n",
      "  x_val['Scheduled depature dow']= x_val['Scheduled depature dow'].apply(lambda x: encoder_dict.get(x,-1))\n"
     ]
    }
   ],
   "source": [
    "x_val['Depature Airport']=x_val['Depature Airport'].apply(lambda x: encoder_dict.get(x,-1))\n",
    "x_val['Destination Airport']= x_val['Destination Airport'].apply(lambda x: encoder_dict.get(x,-1))\n",
    "x_val['Scheduled depature dow']= x_val['Scheduled depature dow'].apply(lambda x: encoder_dict.get(x,-1))\n",
    "X_test['Depature Airport']=X_test['Depature Airport'].apply(lambda x: encoder_dict.get(x,-1))\n",
    "X_test['Destination Airport']= X_test['Destination Airport'].apply(lambda x: encoder_dict.get(x,-1))\n",
    "X_test['Scheduled depature dow']= X_test['Scheduled depature dow'].apply(lambda x: encoder_dict.get(x,-1))"
   ]
  },
  {
   "cell_type": "code",
   "execution_count": 21,
   "id": "71c89296",
   "metadata": {},
   "outputs": [
    {
     "name": "stdout",
     "output_type": "stream",
     "text": [
      "(436679, 8)\n",
      "(436679,)\n",
      "(62383, 8)\n",
      "(62383,)\n",
      "(176451, 8)\n",
      "(176451,)\n"
     ]
    }
   ],
   "source": [
    "print(x_train.shape)\n",
    "print(y_train.shape)\n",
    "print(x_val.shape)\n",
    "print(y_val.shape)\n",
    "print(X_test.shape)\n",
    "print(y_test.shape)"
   ]
  },
  {
   "cell_type": "code",
   "execution_count": 22,
   "id": "7f31fa5c",
   "metadata": {},
   "outputs": [
    {
     "data": {
      "text/html": [
       "<div>\n",
       "<style scoped>\n",
       "    .dataframe tbody tr th:only-of-type {\n",
       "        vertical-align: middle;\n",
       "    }\n",
       "\n",
       "    .dataframe tbody tr th {\n",
       "        vertical-align: top;\n",
       "    }\n",
       "\n",
       "    .dataframe thead th {\n",
       "        text-align: right;\n",
       "    }\n",
       "</style>\n",
       "<table border=\"1\" class=\"dataframe\">\n",
       "  <thead>\n",
       "    <tr style=\"text-align: right;\">\n",
       "      <th></th>\n",
       "      <th>Depature Airport</th>\n",
       "      <th>Destination Airport</th>\n",
       "      <th>Delay</th>\n",
       "      <th>Flight duration(minutes)</th>\n",
       "      <th>Scheduled depature month</th>\n",
       "      <th>Scheduled depature dow</th>\n",
       "      <th>Scheduled depature hour</th>\n",
       "      <th>Scheduled depature year</th>\n",
       "    </tr>\n",
       "  </thead>\n",
       "  <tbody>\n",
       "    <tr>\n",
       "      <th>499059</th>\n",
       "      <td>11</td>\n",
       "      <td>140</td>\n",
       "      <td>0.0</td>\n",
       "      <td>250.0</td>\n",
       "      <td>1</td>\n",
       "      <td>100</td>\n",
       "      <td>1</td>\n",
       "      <td>2018</td>\n",
       "    </tr>\n",
       "    <tr>\n",
       "      <th>499060</th>\n",
       "      <td>84</td>\n",
       "      <td>140</td>\n",
       "      <td>0.0</td>\n",
       "      <td>215.0</td>\n",
       "      <td>1</td>\n",
       "      <td>100</td>\n",
       "      <td>1</td>\n",
       "      <td>2018</td>\n",
       "    </tr>\n",
       "    <tr>\n",
       "      <th>499061</th>\n",
       "      <td>34</td>\n",
       "      <td>140</td>\n",
       "      <td>0.0</td>\n",
       "      <td>340.0</td>\n",
       "      <td>1</td>\n",
       "      <td>100</td>\n",
       "      <td>1</td>\n",
       "      <td>2018</td>\n",
       "    </tr>\n",
       "    <tr>\n",
       "      <th>499062</th>\n",
       "      <td>153</td>\n",
       "      <td>140</td>\n",
       "      <td>1.0</td>\n",
       "      <td>250.0</td>\n",
       "      <td>1</td>\n",
       "      <td>100</td>\n",
       "      <td>2</td>\n",
       "      <td>2018</td>\n",
       "    </tr>\n",
       "    <tr>\n",
       "      <th>499063</th>\n",
       "      <td>16</td>\n",
       "      <td>140</td>\n",
       "      <td>0.0</td>\n",
       "      <td>235.0</td>\n",
       "      <td>1</td>\n",
       "      <td>100</td>\n",
       "      <td>2</td>\n",
       "      <td>2018</td>\n",
       "    </tr>\n",
       "    <tr>\n",
       "      <th>...</th>\n",
       "      <td>...</td>\n",
       "      <td>...</td>\n",
       "      <td>...</td>\n",
       "      <td>...</td>\n",
       "      <td>...</td>\n",
       "      <td>...</td>\n",
       "      <td>...</td>\n",
       "      <td>...</td>\n",
       "    </tr>\n",
       "    <tr>\n",
       "      <th>675508</th>\n",
       "      <td>140</td>\n",
       "      <td>141</td>\n",
       "      <td>0.0</td>\n",
       "      <td>140.0</td>\n",
       "      <td>8</td>\n",
       "      <td>42</td>\n",
       "      <td>23</td>\n",
       "      <td>2018</td>\n",
       "    </tr>\n",
       "    <tr>\n",
       "      <th>675509</th>\n",
       "      <td>82</td>\n",
       "      <td>140</td>\n",
       "      <td>0.0</td>\n",
       "      <td>80.0</td>\n",
       "      <td>8</td>\n",
       "      <td>42</td>\n",
       "      <td>23</td>\n",
       "      <td>2018</td>\n",
       "    </tr>\n",
       "    <tr>\n",
       "      <th>675510</th>\n",
       "      <td>140</td>\n",
       "      <td>35</td>\n",
       "      <td>0.0</td>\n",
       "      <td>85.0</td>\n",
       "      <td>8</td>\n",
       "      <td>42</td>\n",
       "      <td>23</td>\n",
       "      <td>2018</td>\n",
       "    </tr>\n",
       "    <tr>\n",
       "      <th>675511</th>\n",
       "      <td>140</td>\n",
       "      <td>156</td>\n",
       "      <td>0.0</td>\n",
       "      <td>200.0</td>\n",
       "      <td>8</td>\n",
       "      <td>42</td>\n",
       "      <td>23</td>\n",
       "      <td>2018</td>\n",
       "    </tr>\n",
       "    <tr>\n",
       "      <th>675512</th>\n",
       "      <td>140</td>\n",
       "      <td>65</td>\n",
       "      <td>379.0</td>\n",
       "      <td>340.0</td>\n",
       "      <td>8</td>\n",
       "      <td>42</td>\n",
       "      <td>17</td>\n",
       "      <td>2018</td>\n",
       "    </tr>\n",
       "  </tbody>\n",
       "</table>\n",
       "<p>176451 rows × 8 columns</p>\n",
       "</div>"
      ],
      "text/plain": [
       "        Depature Airport  Destination Airport  Delay  \\\n",
       "499059                11                  140    0.0   \n",
       "499060                84                  140    0.0   \n",
       "499061                34                  140    0.0   \n",
       "499062               153                  140    1.0   \n",
       "499063                16                  140    0.0   \n",
       "...                  ...                  ...    ...   \n",
       "675508               140                  141    0.0   \n",
       "675509                82                  140    0.0   \n",
       "675510               140                   35    0.0   \n",
       "675511               140                  156    0.0   \n",
       "675512               140                   65  379.0   \n",
       "\n",
       "        Flight duration(minutes)  Scheduled depature month  \\\n",
       "499059                     250.0                         1   \n",
       "499060                     215.0                         1   \n",
       "499061                     340.0                         1   \n",
       "499062                     250.0                         1   \n",
       "499063                     235.0                         1   \n",
       "...                          ...                       ...   \n",
       "675508                     140.0                         8   \n",
       "675509                      80.0                         8   \n",
       "675510                      85.0                         8   \n",
       "675511                     200.0                         8   \n",
       "675512                     340.0                         8   \n",
       "\n",
       "        Scheduled depature dow  Scheduled depature hour  \\\n",
       "499059                     100                        1   \n",
       "499060                     100                        1   \n",
       "499061                     100                        1   \n",
       "499062                     100                        2   \n",
       "499063                     100                        2   \n",
       "...                        ...                      ...   \n",
       "675508                      42                       23   \n",
       "675509                      42                       23   \n",
       "675510                      42                       23   \n",
       "675511                      42                       23   \n",
       "675512                      42                       17   \n",
       "\n",
       "        Scheduled depature year  \n",
       "499059                     2018  \n",
       "499060                     2018  \n",
       "499061                     2018  \n",
       "499062                     2018  \n",
       "499063                     2018  \n",
       "...                         ...  \n",
       "675508                     2018  \n",
       "675509                     2018  \n",
       "675510                     2018  \n",
       "675511                     2018  \n",
       "675512                     2018  \n",
       "\n",
       "[176451 rows x 8 columns]"
      ]
     },
     "execution_count": 22,
     "metadata": {},
     "output_type": "execute_result"
    }
   ],
   "source": [
    "X_test"
   ]
  },
  {
   "cell_type": "markdown",
   "id": "89612830",
   "metadata": {},
   "source": [
    "imputing the data"
   ]
  },
  {
   "cell_type": "code",
   "execution_count": 23,
   "id": "87cb0240",
   "metadata": {},
   "outputs": [
    {
     "name": "stdout",
     "output_type": "stream",
     "text": [
      "Number of missing values in train after encoding:  0\n",
      "Number of missing values in validation after encoding:  0\n",
      "Number of missing values in Test after encoding:  0\n"
     ]
    }
   ],
   "source": [
    "\n",
    "print(\"Number of missing values in train after encoding: \",x_train.isnull().sum().sum())\n",
    "print(\"Number of missing values in validation after encoding: \",x_val.isnull().sum().sum())\n",
    "print(\"Number of missing values in Test after encoding: \",X_test.isnull().sum().sum())\n",
    "#print(\"Number of missing values in test: \",count_nans(X_test))"
   ]
  },
  {
   "cell_type": "code",
   "execution_count": 24,
   "id": "0331f5ef",
   "metadata": {},
   "outputs": [],
   "source": [
    "from sklearn.impute import SimpleImputer\n",
    "imputer = SimpleImputer(strategy='mean')\n",
    "imputer.fit(x_train)\n",
    "x_train = imputer.transform(x_train)\n",
    "X_test = imputer.transform(X_test)\n",
    "x_val = imputer.transform(x_val)"
   ]
  },
  {
   "cell_type": "code",
   "execution_count": 25,
   "id": "2007c9e4",
   "metadata": {},
   "outputs": [
    {
     "name": "stdout",
     "output_type": "stream",
     "text": [
      "(436679, 8)\n",
      "(436679,)\n",
      "(176451, 8)\n",
      "(176451,)\n",
      "(62383, 8)\n",
      "(62383,)\n"
     ]
    }
   ],
   "source": [
    "print(x_train.shape)\n",
    "print(y_train.shape)\n",
    "print(X_test.shape)\n",
    "print(y_test.shape)\n",
    "print(x_val.shape)\n",
    "print(y_val.shape)"
   ]
  },
  {
   "cell_type": "code",
   "execution_count": 26,
   "id": "fa80f580",
   "metadata": {},
   "outputs": [
    {
     "name": "stdout",
     "output_type": "stream",
     "text": [
      "Number of missing values in train after imputing:  0\n",
      "Number of missing values in val after imputing:  0\n",
      "Number of missing values in test after imputing:  0\n"
     ]
    }
   ],
   "source": [
    "print(\"Number of missing values in train after imputing: \",np.sum(np.sum(np.isnan(x_train))))\n",
    "print(\"Number of missing values in val after imputing: \",np.sum(np.sum(np.isnan(x_val))))\n",
    "\n",
    "print(\"Number of missing values in test after imputing: \",np.sum(np.sum(np.isnan(X_test))))"
   ]
  },
  {
   "cell_type": "code",
   "execution_count": 27,
   "id": "78712341",
   "metadata": {},
   "outputs": [
    {
     "name": "stdout",
     "output_type": "stream",
     "text": [
      "(436679, 8)\n",
      "(436679,)\n",
      "(62383, 8)\n",
      "(62383,)\n",
      "(176451, 8)\n",
      "(176451,)\n"
     ]
    }
   ],
   "source": [
    "print(x_train.shape)\n",
    "print(y_train.shape)\n",
    "print(x_val.shape)\n",
    "print(y_val.shape)\n",
    "print(X_test.shape)\n",
    "print(y_test.shape)"
   ]
  },
  {
   "cell_type": "code",
   "execution_count": 28,
   "id": "3ca2369a",
   "metadata": {},
   "outputs": [],
   "source": [
    "from sklearn import preprocessing\n",
    "scaler = preprocessing.MinMaxScaler()\n",
    "scaler.fit(x_train)\n",
    "x_train = scaler.transform(x_train)\n",
    "X_test = scaler.transform(X_test)\n",
    "x_val = scaler.transform(x_val)"
   ]
  },
  {
   "cell_type": "code",
   "execution_count": 29,
   "id": "0a6966df",
   "metadata": {},
   "outputs": [
    {
     "name": "stdout",
     "output_type": "stream",
     "text": [
      "(430634, 8) (430634,)\n"
     ]
    }
   ],
   "source": [
    "from sklearn.neighbors import LocalOutlierFactor\n",
    "# identify outliers in the training dataset\n",
    "lof = LocalOutlierFactor()\n",
    "yhat = lof.fit_predict(x_train)\n",
    "# select all rows that are not outliers\n",
    "mask = yhat != -1\n",
    "x_train, y_train = x_train[mask, :], y_train[mask]\n",
    "# summarize the shape of the updated training dataset\n",
    "print(x_train.shape, y_train.shape)"
   ]
  },
  {
   "cell_type": "markdown",
   "id": "4cf1596d",
   "metadata": {},
   "source": [
    "Applying PCA to check variance of features"
   ]
  },
  {
   "cell_type": "code",
   "execution_count": 30,
   "id": "d7a1ddf8",
   "metadata": {},
   "outputs": [],
   "source": [
    "from sklearn.decomposition import PCA"
   ]
  },
  {
   "cell_type": "code",
   "execution_count": 31,
   "id": "ee35852f",
   "metadata": {},
   "outputs": [],
   "source": [
    "pca = PCA(n_components=8)\n",
    "#pca.fit(X_train)\n",
    "x_reduced = pca.fit_transform(x_train)"
   ]
  },
  {
   "cell_type": "code",
   "execution_count": 32,
   "id": "306fda87",
   "metadata": {},
   "outputs": [
    {
     "name": "stdout",
     "output_type": "stream",
     "text": [
      "[0.22621131 0.19301668 0.17784572 0.14392531 0.13560261 0.0755823\n",
      " 0.04661442 0.00120164]\n"
     ]
    }
   ],
   "source": [
    "print(pca.explained_variance_ratio_)"
   ]
  },
  {
   "cell_type": "markdown",
   "id": "432d7ec8",
   "metadata": {},
   "source": [
    "Based on the method above, it seems that Ridge regression would do better"
   ]
  },
  {
   "cell_type": "code",
   "execution_count": 33,
   "id": "9660be60",
   "metadata": {},
   "outputs": [
    {
     "name": "stdout",
     "output_type": "stream",
     "text": [
      "Model coefficients : [-4.87127075e-03  1.79415148e-02  1.42487745e+03  4.34329029e-02\n",
      "  3.47947758e-03 -3.82219501e-03  1.43254446e-02  9.18056403e-03]\n"
     ]
    }
   ],
   "source": [
    "from sklearn.linear_model import  Ridge\n",
    "regressor = Ridge()\n",
    "regressor.fit(x_train, y_train)\n",
    "print(f\"Model coefficients : {regressor.coef_}\")"
   ]
  },
  {
   "cell_type": "code",
   "execution_count": 36,
   "id": "c7ab5682",
   "metadata": {},
   "outputs": [
    {
     "data": {
      "image/png": "[encoded data removed]",
      "text/plain": [
       "<Figure size 432x288 with 1 Axes>"
      ]
     },
     "metadata": {
      "needs_background": "light"
     },
     "output_type": "display_data"
    },
    {
     "name": "stdout",
     "output_type": "stream",
     "text": [
      "Best value of alpha: 0.1\n",
      "MSE :  0.0002975570075433311\n"
     ]
    }
   ],
   "source": [
    "alphas = [2.2, 2, 1.5, 1.3, 1.2, 1.1, 1, 0.3, 0.1]\n",
    "losses = []\n",
    "for alpha in alphas:\n",
    "    \n",
    "    ridge = Ridge(alpha=alpha)\n",
    "    ridge.fit(x_train,y_train)\n",
    "    predict_val = ridge.predict(x_val)\n",
    "    mse = metrics.mean_squared_error(y_val,predict_val)\n",
    "    losses.append(mse)\n",
    "    \n",
    "plt.plot(alphas, losses)\n",
    "plt.title(\"Ridge alpha value selection\")\n",
    "plt.xlabel(\"alpha\")\n",
    "plt.ylabel(\"Mean squared error\")\n",
    "plt.show()\n",
    "\n",
    "best_alpha = alphas[np.argmin(losses)]\n",
    "print(\"Best value of alpha:\", best_alpha)\n",
    "print(\"MSE : \", losses[np.argmin(losses)] )"
   ]
  },
  {
   "cell_type": "code",
   "execution_count": 37,
   "id": "e120fdd8",
   "metadata": {},
   "outputs": [
    {
     "name": "stdout",
     "output_type": "stream",
     "text": [
      "Mean Absolute Error for ridge for test : 0.005059115875465452\n",
      "Mean Squared Error ridge for test : 0.00020875528578785936\n",
      "Root Mean Squared Error for ridge for test: 0.0144483661978737\n",
      "R2 score  for test : 0.9999998697535688\n"
     ]
    }
   ],
   "source": [
    "regressor = Ridge(best_alpha)\n",
    "regressor.fit(x_train, y_train)\n",
    "y_pred = regressor.predict(X_test)\n",
    "print('Mean Absolute Error for ridge for test :', metrics.mean_absolute_error(y_test, y_pred))\n",
    "print('Mean Squared Error ridge for test :', metrics.mean_squared_error(y_test, y_pred))\n",
    "print('Root Mean Squared Error for ridge for test:', np.sqrt(metrics.mean_squared_error(y_test, y_pred)))\n",
    "print('R2 score  for test :', metrics.r2_score(y_test,y_pred))"
   ]
  },
  {
   "cell_type": "code",
   "execution_count": 38,
   "id": "4eb203fa",
   "metadata": {},
   "outputs": [
    {
     "name": "stdout",
     "output_type": "stream",
     "text": [
      "Mean Absolute Error for ridge for train: 0.004280891142530069\n",
      "Mean Squared Error ridge for train: 0.00017059251185415174\n",
      "Root Mean Squared Error for ridge for train: 0.013061106838784826\n",
      "R2 score  for train : 0.9999998715283441\n"
     ]
    }
   ],
   "source": [
    "regressor = Ridge(best_alpha)\n",
    "regressor.fit(x_train, y_train)\n",
    "y_pred_train = regressor.predict(x_train)\n",
    "print('Mean Absolute Error for ridge for train:', metrics.mean_absolute_error(y_train, y_pred_train))\n",
    "print('Mean Squared Error ridge for train:', metrics.mean_squared_error(y_train, y_pred_train))\n",
    "print('Root Mean Squared Error for ridge for train:', np.sqrt(metrics.mean_squared_error(y_train, y_pred_train)))\n",
    "print('R2 score  for train :', metrics.r2_score(y_train,y_pred_train))"
   ]
  },
  {
   "cell_type": "markdown",
   "id": "52f5503c",
   "metadata": {},
   "source": [
    "SVR trial "
   ]
  },
  {
   "cell_type": "code",
   "execution_count": 39,
   "id": "a51d59f1",
   "metadata": {},
   "outputs": [],
   "source": [
    "from sklearn.svm import SVR"
   ]
  },
  {
   "cell_type": "code",
   "execution_count": 40,
   "id": "294371ce",
   "metadata": {},
   "outputs": [
    {
     "data": {
      "text/plain": [
       "(430634,)"
      ]
     },
     "execution_count": 40,
     "metadata": {},
     "output_type": "execute_result"
    }
   ],
   "source": [
    "y_train.shape"
   ]
  },
  {
   "cell_type": "code",
   "execution_count": 65,
   "id": "ea52e4cc",
   "metadata": {},
   "outputs": [],
   "source": [
    "x_train_sam = x_train[:1000,:]\n",
    "x_val_sam = x_train[1001:1101,:]\n",
    "y_val_sam = y_train[1001:1101]\n",
    "x_test_sam = X_test[:400,:]\n",
    "y_train_sam = y_train[:1000]\n",
    "y_test_sam = y_test[:400]"
   ]
  },
  {
   "cell_type": "code",
   "execution_count": 66,
   "id": "ddfdf52e",
   "metadata": {},
   "outputs": [
    {
     "name": "stdout",
     "output_type": "stream",
     "text": [
      "{1: [(8.50757907243132, 1), (8.50757907243132, 10), (8.50757907243132, 100)], 10: [(8.16153567349177, 1), (8.16153567349177, 10), (8.16153567349177, 100)], 100: [(4.9182025484144365, 1), (4.9182025484144365, 10), (4.9182025484144365, 100)]}\n"
     ]
    }
   ],
   "source": [
    "gamma = [1,10,100]\n",
    "C =[1,10,100]\n",
    "svm_param ={}\n",
    "for i in range(len(C)):\n",
    "    res = []\n",
    "    for j in range(len(gamma)):\n",
    "        svm_model = SVR(kernel='linear',gamma=gamma[j],C=C[i])\n",
    "        svm_model.fit(x_train_sam,y_train_sam)\n",
    "        y_pred_svm = svm_model.predict(x_val_sam)\n",
    "        mse = metrics.mean_absolute_error(y_val_sam, y_pred_svm)\n",
    "        res.append((mse,gamma[j]))\n",
    "    svm_param[C[i]] = res\n",
    "print(svm_param)\n",
    "#svm_model = SVR(kernel='rbf')\n",
    "#svm_model.fit(x_train_sam,y_train_sam)"
   ]
  },
  {
   "cell_type": "code",
   "execution_count": 67,
   "id": "64469435",
   "metadata": {},
   "outputs": [],
   "source": [
    "temp = [(k,min(v,key = lambda x : x[0])) for k,v in svm_param.items()]\n",
    "res = min(temp,key= lambda x: x[1][0])\n",
    "res\n",
    "best_C, best_gamma = res[0],res[1][1]"
   ]
  },
  {
   "cell_type": "code",
   "execution_count": 68,
   "id": "49c85711",
   "metadata": {},
   "outputs": [
    {
     "data": {
      "text/plain": [
       "SVR(C=100, gamma=1, kernel='linear')"
      ]
     },
     "execution_count": 68,
     "metadata": {},
     "output_type": "execute_result"
    }
   ],
   "source": [
    "svm = SVR(kernel='linear',C=best_C,gamma=best_gamma)\n",
    "svm.fit(x_train_sam,y_train_sam)"
   ]
  },
  {
   "cell_type": "code",
   "execution_count": 69,
   "id": "99587034",
   "metadata": {},
   "outputs": [],
   "source": [
    "y_pred_svm = svm.predict(x_test_sam)"
   ]
  },
  {
   "cell_type": "code",
   "execution_count": 70,
   "id": "b5e7b59d",
   "metadata": {},
   "outputs": [
    {
     "name": "stdout",
     "output_type": "stream",
     "text": [
      "Mean Absolute Error for SVR(linear) for test : 3.9156449909116406\n",
      "Mean Squared Error for SVR(linear) for test : 231.85471325122\n",
      "Root Mean Squared Error for SVR(linear) for test: 15.226776193640596\n",
      "R2 score for SVR(linear) for test : 0.6510244905895063\n"
     ]
    }
   ],
   "source": [
    "print('Mean Absolute Error for SVR(linear) for test :', metrics.mean_absolute_error(y_test_sam, y_pred_svm))\n",
    "print('Mean Squared Error for SVR(linear) for test :', metrics.mean_squared_error(y_test_sam, y_pred_svm))\n",
    "print('Root Mean Squared Error for SVR(linear) for test:', np.sqrt(metrics.mean_squared_error(y_test_sam, y_pred_svm)))\n",
    "print('R2 score for SVR(linear) for test :', metrics.r2_score(y_test_sam,y_pred_svm))"
   ]
  },
  {
   "cell_type": "code",
   "execution_count": 71,
   "id": "df9ebb39",
   "metadata": {},
   "outputs": [],
   "source": [
    "y_pred_svm_train = svm.predict(x_train_sam)"
   ]
  },
  {
   "cell_type": "code",
   "execution_count": 72,
   "id": "d6fe8daa",
   "metadata": {},
   "outputs": [
    {
     "name": "stdout",
     "output_type": "stream",
     "text": [
      "Mean Absolute Error for SVR(linear) for train : 4.990446734952451\n",
      "Mean Squared Error SVR(linear) for train : 234.72421004795072\n",
      "Root Mean Squared Error for SVR(linear) for train: 15.320711799650521\n",
      "R2 score for SVR(linear) for train : 0.6380062186647127\n"
     ]
    }
   ],
   "source": [
    "print('Mean Absolute Error for SVR(linear) for train :', metrics.mean_absolute_error(y_train_sam, y_pred_svm_train))\n",
    "print('Mean Squared Error SVR(linear) for train :', metrics.mean_squared_error(y_train_sam, y_pred_svm_train))\n",
    "print('Root Mean Squared Error for SVR(linear) for train:', np.sqrt(metrics.mean_squared_error(y_train_sam, y_pred_svm_train)))\n",
    "print('R2 score for SVR(linear) for train :', metrics.r2_score(y_train_sam,y_pred_svm_train))"
   ]
  },
  {
   "cell_type": "markdown",
   "id": "011e4ac1",
   "metadata": {},
   "source": [
    "polynomial Regression"
   ]
  },
  {
   "cell_type": "code",
   "execution_count": 13,
   "id": "61276c9f",
   "metadata": {},
   "outputs": [],
   "source": [
    "from sklearn.pipeline import Pipeline\n",
    "from sklearn.preprocessing import PolynomialFeatures #to convert the original features into their higher order terms \n",
    "from sklearn.linear_model import LinearRegression\n",
    "from sklearn.model_selection import cross_val_score"
   ]
  },
  {
   "cell_type": "code",
   "execution_count": 14,
   "id": "6de9d211",
   "metadata": {},
   "outputs": [],
   "source": [
    "X_train = flight_df.loc[(flight_df['Scheduled depature year'] >= 2015) & (flight_df['Scheduled depature year'] <=2017)]\n",
    "X_test = flight_df.loc[flight_df['Scheduled depature year'] == 2018]\n",
    "y_train = X_train['Delay']\n",
    "y_test = X_test['Delay']\n",
    "X_train = X_train['Flight duration(minutes)']\n",
    "X_test = X_test['Flight duration(minutes)']"
   ]
  },
  {
   "cell_type": "markdown",
   "id": "ccafb7db",
   "metadata": {},
   "source": [
    "Outlier Detection"
   ]
  },
  {
   "cell_type": "code",
   "execution_count": 15,
   "id": "b2004a36",
   "metadata": {},
   "outputs": [
    {
     "name": "stdout",
     "output_type": "stream",
     "text": [
      "Identified outliers: 14359\n",
      "Non-outlier observations: 484703\n"
     ]
    }
   ],
   "source": [
    "df = pd.concat([X_train,y_train],axis=1)\n",
    "df_mean, std_dev = np.mean(df['Flight duration(minutes)']), np.std(df['Flight duration(minutes)'])\n",
    "cutoff = std_dev*3\n",
    "lower,upper = df_mean - cutoff, df_mean + cutoff\n",
    "# identify outliers\n",
    "outliers = [x for x in df['Flight duration(minutes)'] if x < lower or x > upper]\n",
    "print('Identified outliers: %d' % len(outliers))\n",
    "# remove outliers\n",
    "df.drop(df[df['Flight duration(minutes)'] < lower].index, inplace = True)\n",
    "df.drop(df[df['Flight duration(minutes)'] > upper].index, inplace = True)\n",
    "print('Non-outlier observations: %d' % len(df))"
   ]
  },
  {
   "cell_type": "code",
   "execution_count": 16,
   "id": "4e1966da",
   "metadata": {},
   "outputs": [
    {
     "name": "stdout",
     "output_type": "stream",
     "text": [
      "(484703,)\n",
      "(484703,)\n"
     ]
    }
   ],
   "source": [
    "#seperate the data set again\n",
    "X_train = df['Flight duration(minutes)']\n",
    "y_train = df['Delay']\n",
    "print(X_train.shape)\n",
    "print(y_train.shape)"
   ]
  },
  {
   "cell_type": "code",
   "execution_count": 17,
   "id": "beb2972a",
   "metadata": {},
   "outputs": [],
   "source": [
    "X_train = (X_train.to_numpy()).reshape(-1,1)\n",
    "X_test = (X_test.to_numpy()).reshape(-1,1)"
   ]
  },
  {
   "cell_type": "code",
   "execution_count": 18,
   "id": "549ac427",
   "metadata": {},
   "outputs": [
    {
     "data": {
      "text/plain": [
       "array([[145.],\n",
       "       [165.],\n",
       "       [340.],\n",
       "       ...,\n",
       "       [ 75.],\n",
       "       [ 85.],\n",
       "       [270.]])"
      ]
     },
     "execution_count": 18,
     "metadata": {},
     "output_type": "execute_result"
    }
   ],
   "source": [
    "X_train"
   ]
  },
  {
   "cell_type": "code",
   "execution_count": 19,
   "id": "df1e58f9",
   "metadata": {},
   "outputs": [
    {
     "name": "stdout",
     "output_type": "stream",
     "text": [
      "(484703, 1)\n",
      "(484703,)\n",
      "(176451, 1)\n",
      "(176451,)\n"
     ]
    }
   ],
   "source": [
    "print(X_train.shape)\n",
    "print(y_train.shape)\n",
    "print(X_test.shape)\n",
    "print(y_test.shape)"
   ]
  },
  {
   "cell_type": "code",
   "execution_count": 35,
   "id": "60bdba14",
   "metadata": {},
   "outputs": [
    {
     "name": "stdout",
     "output_type": "stream",
     "text": [
      "5\n"
     ]
    },
    {
     "data": {
      "image/png": "[encoded data removed]",
      "text/plain": [
       "<Figure size 1008x360 with 5 Axes>"
      ]
     },
     "metadata": {},
     "output_type": "display_data"
    }
   ],
   "source": [
    "degrees = [1, 3, 5,7,9]\n",
    "plt.figure(figsize=(14, 5))\n",
    "losses = []\n",
    "for i in range(len(degrees)):\n",
    "    ax = plt.subplot(1, len(degrees), i + 1)\n",
    "    plt.setp(ax, xticks=(), yticks=())\n",
    "\n",
    "    polynomial_features = PolynomialFeatures(degree=degrees[i])\n",
    "    linear_regression = LinearRegression()\n",
    "    pipeline = Pipeline([(\"polynomial_features\", polynomial_features),\n",
    "                         (\"linear_regression\", linear_regression)])\n",
    "    pipeline.fit(X_train, y_train)\n",
    "\n",
    "    # Evaluate the models using crossvalidation\n",
    "    scores = cross_val_score(pipeline, X_train, y_train,\n",
    "                             scoring=\"neg_mean_squared_error\", cv=5)\n",
    "    \n",
    "    losses.append(-scores.mean())\n",
    "    plt.scatter(X_test, pipeline.predict(X_test), label=\"Model\")\n",
    "    plt.scatter(X_test, y_test, edgecolor='b',label=\"Actual function\",alpha=0.3)\n",
    "    # plt.scatter(X, y, edgecolor='b', s=20, label=\"Samples\")\n",
    "    plt.xlabel(\"x\")\n",
    "    plt.ylabel(\"y\")\n",
    "    # plt.xlim((0, 1))\n",
    "    # plt.ylim((-2, 2))\n",
    "    plt.legend(loc=\"best\")\n",
    "    plt.title(\"Degree {}\\nMSE = {:.2e}(+/- {:.2e})\".format(\n",
    "        degrees[i], -scores.mean(), scores.std()))\n",
    "best_deg = degrees[np.argmin(losses)]\n",
    "print(best_deg)\n",
    "plt.show()"
   ]
  },
  {
   "cell_type": "code",
   "execution_count": 36,
   "id": "fd66db65",
   "metadata": {},
   "outputs": [],
   "source": [
    "# create a Linear Regressor   \n",
    "lin_regressor = LinearRegression()\n",
    "\n",
    "# pass the order of your polynomial here  \n",
    "poly = PolynomialFeatures(degree = best_deg)\n",
    "\n",
    "# convert to be used further to linear regression\n",
    "X_transform = poly.fit_transform(X_train)\n",
    "\n",
    "# fit this to Linear Regressor\n",
    "lin_regressor.fit(X_transform,y_train) \n",
    "\n",
    "# get the predictions\n",
    "X_test_transform = poly.fit_transform(X_test)\n",
    "y_preds = lin_regressor.predict(X_test_transform)"
   ]
  },
  {
   "cell_type": "code",
   "execution_count": 37,
   "id": "7c2ffb23",
   "metadata": {},
   "outputs": [
    {
     "name": "stdout",
     "output_type": "stream",
     "text": [
      "Mean Absolute Error for polynomial regression for test : 16.50360973989707\n",
      "Mean Squared Error for polynomial test : 2220.4521252326895\n",
      "Root Mean Squared Error for polynomial regression for test: 47.12167362512382\n",
      "R2 score  for test : -0.38538271697516424\n"
     ]
    }
   ],
   "source": [
    "from sklearn import metrics\n",
    "print('Mean Absolute Error for polynomial regression for test :', metrics.mean_absolute_error(y_test, y_preds))\n",
    "print('Mean Squared Error for polynomial test :', metrics.mean_squared_error(y_test, y_preds))\n",
    "print('Root Mean Squared Error for polynomial regression for test:', np.sqrt(metrics.mean_squared_error(y_test, y_preds)))\n",
    "print('R2 score  for test :', metrics.r2_score(y_test,y_preds))"
   ]
  },
  {
   "cell_type": "code",
   "execution_count": 38,
   "id": "0a957262",
   "metadata": {},
   "outputs": [],
   "source": [
    "y_train_preds = lin_regressor.predict(X_transform)"
   ]
  },
  {
   "cell_type": "code",
   "execution_count": 39,
   "id": "226ed0fe",
   "metadata": {},
   "outputs": [
    {
     "name": "stdout",
     "output_type": "stream",
     "text": [
      "Mean Absolute Error for polynomial regression for train : 16.50360973989707\n",
      "Mean Squared Error  for polynomial regression train : 2220.4521252326895\n",
      "Root Mean Squared Error for polynomial for train: 47.12167362512382\n",
      "R2 score for train : -0.38538271697516424\n"
     ]
    }
   ],
   "source": [
    "print('Mean Absolute Error for polynomial regression for train :', metrics.mean_absolute_error(y_test, y_preds))\n",
    "print('Mean Squared Error  for polynomial regression train :', metrics.mean_squared_error(y_test, y_preds))\n",
    "print('Root Mean Squared Error for polynomial for train:', np.sqrt(metrics.mean_squared_error(y_test, y_preds)))\n",
    "print('R2 score for train :', metrics.r2_score(y_test,y_preds))"
   ]
  },
  {
   "cell_type": "code",
   "execution_count": null,
   "id": "d311c790",
   "metadata": {},
   "outputs": [],
   "source": []
  }
 ],
 "metadata": {
  "kernelspec": {
   "display_name": "Python 3",
   "language": "python",
   "name": "python3"
  },
  "language_info": {
   "codemirror_mode": {
    "name": "ipython",
    "version": 3
   },
   "file_extension": ".py",
   "mimetype": "text/x-python",
   "name": "python",
   "nbconvert_exporter": "python",
   "pygments_lexer": "ipython3",
   "version": "3.8.8"
  }
 },
 "nbformat": 4,
 "nbformat_minor": 5
}
